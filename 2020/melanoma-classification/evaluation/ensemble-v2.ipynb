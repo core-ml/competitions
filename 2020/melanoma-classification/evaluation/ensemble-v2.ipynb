{
 "cells": [
  {
   "cell_type": "code",
   "execution_count": 3,
   "metadata": {},
   "outputs": [],
   "source": [
    "import pandas as pd\n",
    "from os.path import join"
   ]
  },
  {
   "cell_type": "code",
   "execution_count": 6,
   "metadata": {},
   "outputs": [],
   "source": [
    "configs = {\n",
    "    'fold1': [\n",
    "        'competitions/2020/melanoma-classification/configs/efficientnet/best-ns-colorjitter',\n",
    "        'competitions/2020/melanoma-classification/configs/efficientnet/best-ns-colorjitter-effb6',\n",
    "        'competitions/2020/melanoma-classification/configs/efficientnet/best-ns-colorjitter-effb7'\n",
    "    ],\n",
    "    'fold2': [\n",
    "        'competitions/2020/melanoma-classification/configs/efficientnet-cv/best-ns-colorjitter-fold2',\n",
    "        'competitions/2020/melanoma-classification/configs/efficientnet-cv/best-ns-colorjitter-effb6-fold2',\n",
    "        'competitions/2020/melanoma-classification/configs/efficientnet-cv/best-ns-colorjitter-effb7-fold2'\n",
    "    ],\n",
    "    'fold3': [\n",
    "        'competitions/2020/melanoma-classification/configs/efficientnet-cv/best-ns-colorjitter-fold3',\n",
    "        'competitions/2020/melanoma-classification/configs/efficientnet-cv/best-ns-colorjitter-effb6-fold3',\n",
    "        'competitions/2020/melanoma-classification/configs/efficientnet-cv/best-ns-colorjitter-effb7-fold3'\n",
    "    ],\n",
    "    'fold4': [\n",
    "        'competitions/2020/melanoma-classification/configs/efficientnet-cv/best-ns-colorjitter-fold4',\n",
    "        'competitions/2020/melanoma-classification/configs/efficientnet-cv/best-ns-colorjitter-effb6-fold4',\n",
    "        'competitions/2020/melanoma-classification/configs/efficientnet-cv/best-ns-colorjitter-effb7-fold4'\n",
    "    ],\n",
    "    'fold5': [\n",
    "        'competitions/2020/melanoma-classification/configs/efficientnet-cv/best-ns-colorjitter-fold5',\n",
    "        'competitions/2020/melanoma-classification/configs/efficientnet-cv/best-ns-colorjitter-effb6-fold5',\n",
    "        'competitions/2020/melanoma-classification/configs/efficientnet-cv/best-ns-colorjitter-effb7-fold5'\n",
    "    ]\n",
    "}"
   ]
  },
  {
   "cell_type": "code",
   "execution_count": 7,
   "metadata": {},
   "outputs": [],
   "source": [
    "all_predictions = []\n",
    "\n",
    "for index, (fold, fold_configs) in enumerate(configs.items()):\n",
    "    fold_predictions = None\n",
    "    \n",
    "    for config_index, config in enumerate(fold_configs):\n",
    "        pred_path = join('/output', config, 'logs/evaluation/test.csv')\n",
    "        config_predictions = pd.read_csv(pred_path)\n",
    "        config_predictions = config_predictions.rename(columns={'target': f'target{config_index+1}'})\n",
    "        if fold_predictions is None:\n",
    "            fold_predictions = config_predictions\n",
    "        else:\n",
    "            fold_predictions = pd.merge(fold_predictions, config_predictions, on='image_name')\n",
    "    \n",
    "    all_predictions.append(fold_predictions)\n",
    "#     pred_path = join('/output', config, 'logs/evaluation/test.csv')\n",
    "#     fold_predictions = pd.read_csv(pred_path)\n",
    "#     fold_predictions = fold_predictions.rename(columns={'target': f'target{index+1}'})\n",
    "#     if all_predictions is None:\n",
    "#         all_predictions = fold_predictions\n",
    "#     else:\n",
    "#         all_predictions = pd.merge(all_predictions, fold_predictions, on='image_name')"
   ]
  },
  {
   "cell_type": "code",
   "execution_count": 8,
   "metadata": {},
   "outputs": [
    {
     "data": {
      "text/html": [
       "<div>\n",
       "<style scoped>\n",
       "    .dataframe tbody tr th:only-of-type {\n",
       "        vertical-align: middle;\n",
       "    }\n",
       "\n",
       "    .dataframe tbody tr th {\n",
       "        vertical-align: top;\n",
       "    }\n",
       "\n",
       "    .dataframe thead th {\n",
       "        text-align: right;\n",
       "    }\n",
       "</style>\n",
       "<table border=\"1\" class=\"dataframe\">\n",
       "  <thead>\n",
       "    <tr style=\"text-align: right;\">\n",
       "      <th></th>\n",
       "      <th>image_name</th>\n",
       "      <th>target1</th>\n",
       "      <th>target2</th>\n",
       "      <th>target3</th>\n",
       "    </tr>\n",
       "  </thead>\n",
       "  <tbody>\n",
       "    <tr>\n",
       "      <th>0</th>\n",
       "      <td>ISIC_0052060</td>\n",
       "      <td>0.018915</td>\n",
       "      <td>0.021542</td>\n",
       "      <td>0.107061</td>\n",
       "    </tr>\n",
       "    <tr>\n",
       "      <th>1</th>\n",
       "      <td>ISIC_0052349</td>\n",
       "      <td>0.003282</td>\n",
       "      <td>0.007053</td>\n",
       "      <td>0.023991</td>\n",
       "    </tr>\n",
       "    <tr>\n",
       "      <th>2</th>\n",
       "      <td>ISIC_0058510</td>\n",
       "      <td>0.007697</td>\n",
       "      <td>0.007457</td>\n",
       "      <td>0.026057</td>\n",
       "    </tr>\n",
       "    <tr>\n",
       "      <th>3</th>\n",
       "      <td>ISIC_0073313</td>\n",
       "      <td>0.004560</td>\n",
       "      <td>0.001320</td>\n",
       "      <td>0.036480</td>\n",
       "    </tr>\n",
       "    <tr>\n",
       "      <th>4</th>\n",
       "      <td>ISIC_0073502</td>\n",
       "      <td>0.051950</td>\n",
       "      <td>0.025945</td>\n",
       "      <td>0.128810</td>\n",
       "    </tr>\n",
       "  </tbody>\n",
       "</table>\n",
       "</div>"
      ],
      "text/plain": [
       "     image_name   target1   target2   target3\n",
       "0  ISIC_0052060  0.018915  0.021542  0.107061\n",
       "1  ISIC_0052349  0.003282  0.007053  0.023991\n",
       "2  ISIC_0058510  0.007697  0.007457  0.026057\n",
       "3  ISIC_0073313  0.004560  0.001320  0.036480\n",
       "4  ISIC_0073502  0.051950  0.025945  0.128810"
      ]
     },
     "execution_count": 8,
     "metadata": {},
     "output_type": "execute_result"
    }
   ],
   "source": [
    "all_predictions[0].head()"
   ]
  },
  {
   "cell_type": "code",
   "execution_count": 9,
   "metadata": {},
   "outputs": [
    {
     "data": {
      "text/html": [
       "<div>\n",
       "<style scoped>\n",
       "    .dataframe tbody tr th:only-of-type {\n",
       "        vertical-align: middle;\n",
       "    }\n",
       "\n",
       "    .dataframe tbody tr th {\n",
       "        vertical-align: top;\n",
       "    }\n",
       "\n",
       "    .dataframe thead th {\n",
       "        text-align: right;\n",
       "    }\n",
       "</style>\n",
       "<table border=\"1\" class=\"dataframe\">\n",
       "  <thead>\n",
       "    <tr style=\"text-align: right;\">\n",
       "      <th></th>\n",
       "      <th>image_name</th>\n",
       "      <th>target1</th>\n",
       "      <th>target2</th>\n",
       "      <th>target3</th>\n",
       "    </tr>\n",
       "  </thead>\n",
       "  <tbody>\n",
       "    <tr>\n",
       "      <th>0</th>\n",
       "      <td>ISIC_0052060</td>\n",
       "      <td>0.034260</td>\n",
       "      <td>0.003016</td>\n",
       "      <td>0.015133</td>\n",
       "    </tr>\n",
       "    <tr>\n",
       "      <th>1</th>\n",
       "      <td>ISIC_0052349</td>\n",
       "      <td>0.003239</td>\n",
       "      <td>0.000839</td>\n",
       "      <td>0.001366</td>\n",
       "    </tr>\n",
       "    <tr>\n",
       "      <th>2</th>\n",
       "      <td>ISIC_0058510</td>\n",
       "      <td>0.008867</td>\n",
       "      <td>0.024391</td>\n",
       "      <td>0.006551</td>\n",
       "    </tr>\n",
       "    <tr>\n",
       "      <th>3</th>\n",
       "      <td>ISIC_0073313</td>\n",
       "      <td>0.002018</td>\n",
       "      <td>0.001111</td>\n",
       "      <td>0.001509</td>\n",
       "    </tr>\n",
       "    <tr>\n",
       "      <th>4</th>\n",
       "      <td>ISIC_0073502</td>\n",
       "      <td>0.074716</td>\n",
       "      <td>0.000721</td>\n",
       "      <td>0.015911</td>\n",
       "    </tr>\n",
       "  </tbody>\n",
       "</table>\n",
       "</div>"
      ],
      "text/plain": [
       "     image_name   target1   target2   target3\n",
       "0  ISIC_0052060  0.034260  0.003016  0.015133\n",
       "1  ISIC_0052349  0.003239  0.000839  0.001366\n",
       "2  ISIC_0058510  0.008867  0.024391  0.006551\n",
       "3  ISIC_0073313  0.002018  0.001111  0.001509\n",
       "4  ISIC_0073502  0.074716  0.000721  0.015911"
      ]
     },
     "execution_count": 9,
     "metadata": {},
     "output_type": "execute_result"
    }
   ],
   "source": [
    "all_predictions[1].head()"
   ]
  },
  {
   "cell_type": "code",
   "execution_count": 10,
   "metadata": {},
   "outputs": [],
   "source": [
    "target_columns = [f'target{index+1}' for index in range(3)]"
   ]
  },
  {
   "cell_type": "code",
   "execution_count": 15,
   "metadata": {},
   "outputs": [],
   "source": [
    "for index in range(len(all_predictions)):\n",
    "    fold_predictions = all_predictions[index]\n",
    "    fold_predictions[f'fold{index+1}'] = fold_predictions[target_columns].mean(axis=1)\n",
    "    fold_predictions = fold_predictions.drop(columns=target_columns)\n",
    "    all_predictions[index] = fold_predictions"
   ]
  },
  {
   "cell_type": "code",
   "execution_count": 18,
   "metadata": {},
   "outputs": [],
   "source": [
    "fold_columns = [f'fold{index+1}' for index in range(5)]"
   ]
  },
  {
   "cell_type": "code",
   "execution_count": 19,
   "metadata": {},
   "outputs": [],
   "source": [
    "final_predictions = all_predictions[0]\n",
    "\n",
    "for index in range(1, len(all_predictions)):\n",
    "    final_predictions = pd.merge(final_predictions, all_predictions[index], on='image_name')"
   ]
  },
  {
   "cell_type": "code",
   "execution_count": 21,
   "metadata": {},
   "outputs": [],
   "source": [
    "final_predictions['target'] = final_predictions[fold_columns].mean(axis=1)"
   ]
  },
  {
   "cell_type": "code",
   "execution_count": 23,
   "metadata": {},
   "outputs": [],
   "source": [
    "final_predictions = final_predictions.drop(columns=fold_columns)"
   ]
  },
  {
   "cell_type": "code",
   "execution_count": 24,
   "metadata": {},
   "outputs": [
    {
     "data": {
      "text/html": [
       "<div>\n",
       "<style scoped>\n",
       "    .dataframe tbody tr th:only-of-type {\n",
       "        vertical-align: middle;\n",
       "    }\n",
       "\n",
       "    .dataframe tbody tr th {\n",
       "        vertical-align: top;\n",
       "    }\n",
       "\n",
       "    .dataframe thead th {\n",
       "        text-align: right;\n",
       "    }\n",
       "</style>\n",
       "<table border=\"1\" class=\"dataframe\">\n",
       "  <thead>\n",
       "    <tr style=\"text-align: right;\">\n",
       "      <th></th>\n",
       "      <th>image_name</th>\n",
       "      <th>target</th>\n",
       "    </tr>\n",
       "  </thead>\n",
       "  <tbody>\n",
       "    <tr>\n",
       "      <th>0</th>\n",
       "      <td>ISIC_0052060</td>\n",
       "      <td>0.021670</td>\n",
       "    </tr>\n",
       "    <tr>\n",
       "      <th>1</th>\n",
       "      <td>ISIC_0052349</td>\n",
       "      <td>0.005016</td>\n",
       "    </tr>\n",
       "    <tr>\n",
       "      <th>2</th>\n",
       "      <td>ISIC_0058510</td>\n",
       "      <td>0.009002</td>\n",
       "    </tr>\n",
       "    <tr>\n",
       "      <th>3</th>\n",
       "      <td>ISIC_0073313</td>\n",
       "      <td>0.004590</td>\n",
       "    </tr>\n",
       "    <tr>\n",
       "      <th>4</th>\n",
       "      <td>ISIC_0073502</td>\n",
       "      <td>0.027846</td>\n",
       "    </tr>\n",
       "    <tr>\n",
       "      <th>...</th>\n",
       "      <td>...</td>\n",
       "      <td>...</td>\n",
       "    </tr>\n",
       "    <tr>\n",
       "      <th>10977</th>\n",
       "      <td>ISIC_9992485</td>\n",
       "      <td>0.056644</td>\n",
       "    </tr>\n",
       "    <tr>\n",
       "      <th>10978</th>\n",
       "      <td>ISIC_9996992</td>\n",
       "      <td>0.316587</td>\n",
       "    </tr>\n",
       "    <tr>\n",
       "      <th>10979</th>\n",
       "      <td>ISIC_9997917</td>\n",
       "      <td>0.357863</td>\n",
       "    </tr>\n",
       "    <tr>\n",
       "      <th>10980</th>\n",
       "      <td>ISIC_9998234</td>\n",
       "      <td>0.024920</td>\n",
       "    </tr>\n",
       "    <tr>\n",
       "      <th>10981</th>\n",
       "      <td>ISIC_9999302</td>\n",
       "      <td>0.391548</td>\n",
       "    </tr>\n",
       "  </tbody>\n",
       "</table>\n",
       "<p>10982 rows × 2 columns</p>\n",
       "</div>"
      ],
      "text/plain": [
       "         image_name    target\n",
       "0      ISIC_0052060  0.021670\n",
       "1      ISIC_0052349  0.005016\n",
       "2      ISIC_0058510  0.009002\n",
       "3      ISIC_0073313  0.004590\n",
       "4      ISIC_0073502  0.027846\n",
       "...             ...       ...\n",
       "10977  ISIC_9992485  0.056644\n",
       "10978  ISIC_9996992  0.316587\n",
       "10979  ISIC_9997917  0.357863\n",
       "10980  ISIC_9998234  0.024920\n",
       "10981  ISIC_9999302  0.391548\n",
       "\n",
       "[10982 rows x 2 columns]"
      ]
     },
     "execution_count": 24,
     "metadata": {},
     "output_type": "execute_result"
    }
   ],
   "source": [
    "final_predictions"
   ]
  },
  {
   "cell_type": "code",
   "execution_count": null,
   "metadata": {},
   "outputs": [],
   "source": [
    "final_predictions.to_csv('submissions/ensembles/effnet-b5-b6-b7-v2.csv', index=False)"
   ]
  },
  {
   "cell_type": "code",
   "execution_count": null,
   "metadata": {},
   "outputs": [],
   "source": []
  }
 ],
 "metadata": {
  "kernelspec": {
   "display_name": "Python 3",
   "language": "python",
   "name": "python3"
  },
  "language_info": {
   "codemirror_mode": {
    "name": "ipython",
    "version": 3
   },
   "file_extension": ".py",
   "mimetype": "text/x-python",
   "name": "python",
   "nbconvert_exporter": "python",
   "pygments_lexer": "ipython3",
   "version": "3.6.9"
  }
 },
 "nbformat": 4,
 "nbformat_minor": 4
}
