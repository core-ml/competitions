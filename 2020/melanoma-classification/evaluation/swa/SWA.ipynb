{
 "cells": [
  {
   "cell_type": "code",
   "execution_count": 18,
   "metadata": {},
   "outputs": [],
   "source": [
    "from os.path import join, splitext, basename\n",
    "from os import listdir\n",
    "import torch\n",
    "from torch.optim.swa_utils import AveragedModel, update_bn\n",
    "import numpy as np\n",
    "import librosa\n",
    "import torch.nn.functional as F\n",
    "from tqdm import tqdm\n",
    "from scipy.stats import mode\n",
    "from glob import glob\n",
    "import pandas as pd\n",
    "import matplotlib.pyplot as plt\n",
    "from natsort import natsorted\n",
    "from sklearn.metrics import confusion_matrix, roc_auc_score\n",
    "from coreml.utils.io import read_yml\n",
    "from coreml.config import Config\n",
    "from coreml.data.dataloader import get_dataloader\n",
    "from coreml.models import factory as model_factory\n",
    "from coreml.utils.logger import set_logger"
   ]
  },
  {
   "cell_type": "code",
   "execution_count": 2,
   "metadata": {},
   "outputs": [],
   "source": [
    "config_name = 'competitions/2020/melanoma-classification/configs/effb5/best-1cycle-wd4e-1-384'"
   ]
  },
  {
   "cell_type": "code",
   "execution_count": 3,
   "metadata": {},
   "outputs": [],
   "source": [
    "whole_train_2020 = pd.read_csv('/data/siim-isic-melanoma/raw/2020/train.csv')\n",
    "whole_train_2019 = pd.read_csv('/data/siim-isic-melanoma/raw/2019/train.csv')\n",
    "test_2020 = pd.read_csv('/data/siim-isic-melanoma/raw/2020/test.csv')"
   ]
  },
  {
   "cell_type": "code",
   "execution_count": 4,
   "metadata": {},
   "outputs": [],
   "source": [
    "train = whole_train_2019[['image_name', 'target']].append(whole_train_2020[['image_name', 'target']])"
   ]
  },
  {
   "cell_type": "code",
   "execution_count": 5,
   "metadata": {},
   "outputs": [
    {
     "data": {
      "text/html": [
       "<div>\n",
       "<style scoped>\n",
       "    .dataframe tbody tr th:only-of-type {\n",
       "        vertical-align: middle;\n",
       "    }\n",
       "\n",
       "    .dataframe tbody tr th {\n",
       "        vertical-align: top;\n",
       "    }\n",
       "\n",
       "    .dataframe thead th {\n",
       "        text-align: right;\n",
       "    }\n",
       "</style>\n",
       "<table border=\"1\" class=\"dataframe\">\n",
       "  <thead>\n",
       "    <tr style=\"text-align: right;\">\n",
       "      <th></th>\n",
       "      <th>image_name</th>\n",
       "      <th>target</th>\n",
       "    </tr>\n",
       "  </thead>\n",
       "  <tbody>\n",
       "    <tr>\n",
       "      <th>0</th>\n",
       "      <td>ISIC_0000000</td>\n",
       "      <td>0</td>\n",
       "    </tr>\n",
       "    <tr>\n",
       "      <th>1</th>\n",
       "      <td>ISIC_0000001</td>\n",
       "      <td>0</td>\n",
       "    </tr>\n",
       "    <tr>\n",
       "      <th>2</th>\n",
       "      <td>ISIC_0000002</td>\n",
       "      <td>1</td>\n",
       "    </tr>\n",
       "    <tr>\n",
       "      <th>3</th>\n",
       "      <td>ISIC_0000003</td>\n",
       "      <td>0</td>\n",
       "    </tr>\n",
       "    <tr>\n",
       "      <th>4</th>\n",
       "      <td>ISIC_0000004</td>\n",
       "      <td>1</td>\n",
       "    </tr>\n",
       "  </tbody>\n",
       "</table>\n",
       "</div>"
      ],
      "text/plain": [
       "     image_name  target\n",
       "0  ISIC_0000000       0\n",
       "1  ISIC_0000001       0\n",
       "2  ISIC_0000002       1\n",
       "3  ISIC_0000003       0\n",
       "4  ISIC_0000004       1"
      ]
     },
     "execution_count": 5,
     "metadata": {},
     "output_type": "execute_result"
    }
   ],
   "source": [
    "train.head()"
   ]
  },
  {
   "cell_type": "code",
   "execution_count": 6,
   "metadata": {},
   "outputs": [
    {
     "name": "stdout",
     "output_type": "stream",
     "text": [
      "Reading data config: /data/siim-isic-melanoma/processed/versions/v3.0.0.yml\n"
     ]
    }
   ],
   "source": [
    "data_config_path = f'/data/siim-isic-melanoma/processed/versions/v3.0.0.yml'\n",
    "print(f'Reading data config: {data_config_path}')\n",
    "data_config = read_yml(data_config_path)"
   ]
  },
  {
   "cell_type": "code",
   "execution_count": 7,
   "metadata": {},
   "outputs": [],
   "source": [
    "prediction_val = pd.read_csv(join('/output', config_name, 'logs/evaluation/val.csv'))"
   ]
  },
  {
   "cell_type": "code",
   "execution_count": 8,
   "metadata": {},
   "outputs": [
    {
     "name": "stdout",
     "output_type": "stream",
     "text": [
      "Shapes:\n",
      "6536 6536\n",
      "\n",
      "Performance without using SWA\n",
      "0.9181316467934257\n"
     ]
    }
   ],
   "source": [
    "val = pd.DataFrame(data_config['val'])\n",
    "val['image_name'] = val['file'].apply(lambda x: splitext(basename(x))[0])\n",
    "val['label'] = val['label'].apply(lambda x: x['classification'])\n",
    "val = val.drop(columns=['file'])\n",
    "\n",
    "print('Shapes:')\n",
    "print(len(prediction_val), len(val))\n",
    "print()\n",
    "    \n",
    "val = pd.merge(prediction_val, val)\n",
    "    \n",
    "print('Performance without using SWA')\n",
    "val_preds = val['target'].values\n",
    "val_labels = val['label'].values\n",
    "roc = roc_auc_score(val_labels, val_preds)\n",
    "print(roc)"
   ]
  },
  {
   "cell_type": "code",
   "execution_count": 9,
   "metadata": {},
   "outputs": [],
   "source": [
    "config = Config(join('/workspace/coreml', config_name + '.yml'))"
   ]
  },
  {
   "cell_type": "code",
   "execution_count": 19,
   "metadata": {},
   "outputs": [],
   "source": [
    "set_logger(join(config.log_dir, 'debug.log'))"
   ]
  },
  {
   "cell_type": "code",
   "execution_count": 10,
   "metadata": {},
   "outputs": [
    {
     "name": "stdout",
     "output_type": "stream",
     "text": [
      "\u001b[33m=> Loading dataset version file: [siim-isic-melanoma, v3.0.0, val]\u001b[0m\n"
     ]
    },
    {
     "name": "stderr",
     "output_type": "stream",
     "text": [
      "Loading items: 100%|██████████| 6536/6536 [00:00<00:00, 355997.86it/s]\n"
     ]
    }
   ],
   "source": [
    "val_dataloader, _ = get_dataloader(\n",
    "        config.data, 'val',\n",
    "        config.model['batch_size'],\n",
    "        num_workers=10,\n",
    "        shuffle=False,\n",
    "        drop_last=False)"
   ]
  },
  {
   "cell_type": "code",
   "execution_count": 16,
   "metadata": {},
   "outputs": [],
   "source": [
    "# set epoch\n",
    "config.model['load']['version'] = config_name\n",
    "config.model['load']['load_best'] = True"
   ]
  },
  {
   "cell_type": "code",
   "execution_count": 39,
   "metadata": {},
   "outputs": [],
   "source": [
    "config.checkpoint_dir = '/output/' + config_name + '/checkpoints'"
   ]
  },
  {
   "cell_type": "code",
   "execution_count": 40,
   "metadata": {},
   "outputs": [
    {
     "name": "stderr",
     "output_type": "stream",
     "text": [
      "INFO:root:\u001b[33mBuilding the network\u001b[0m\n",
      "INFO:root:\u001b[33mSetting up the optimizer ...\u001b[0m\n",
      "INFO:root:\u001b[33m=> Loading model weights from /output/competitions/2020/melanoma-classification/configs/effb5/best-1cycle-wd4e-1-384/checkpoints/best_ckpt.pth.tar\u001b[0m\n",
      "INFO:root:\u001b[33mFreezing specified layers\u001b[0m\n",
      "INFO:root:\u001b[33mUsing loss functions:\u001b[0m\n",
      "INFO:root:{'train': {'name': 'binary-cross-entropy', 'params': {'reduction': 'none'}}, 'val': {'name': 'binary-cross-entropy', 'params': {'reduction': 'none'}}, 'test': {'name': 'binary-cross-entropy', 'params': {'reduction': 'none'}}}\n"
     ]
    }
   ],
   "source": [
    "model = model_factory.create(config.model['name'], **{'config': config})"
   ]
  },
  {
   "cell_type": "markdown",
   "metadata": {},
   "source": [
    "# SWA"
   ]
  },
  {
   "cell_type": "code",
   "execution_count": 21,
   "metadata": {},
   "outputs": [],
   "source": [
    "swa_model = AveragedModel(model.network)"
   ]
  },
  {
   "cell_type": "code",
   "execution_count": 41,
   "metadata": {},
   "outputs": [],
   "source": [
    "# all checkpoints available\n",
    "available_ckpts = natsorted(glob(join(config.checkpoint_dir, '*')))[::-1]"
   ]
  },
  {
   "cell_type": "code",
   "execution_count": 42,
   "metadata": {},
   "outputs": [
    {
     "data": {
      "text/plain": [
       "['/output/competitions/2020/melanoma-classification/configs/effb5/best-1cycle-wd4e-1-384/checkpoints/best_ckpt.pth.tar',\n",
       " '/output/competitions/2020/melanoma-classification/configs/effb5/best-1cycle-wd4e-1-384/checkpoints/19_ckpt.pth.tar',\n",
       " '/output/competitions/2020/melanoma-classification/configs/effb5/best-1cycle-wd4e-1-384/checkpoints/17_ckpt.pth.tar',\n",
       " '/output/competitions/2020/melanoma-classification/configs/effb5/best-1cycle-wd4e-1-384/checkpoints/15_ckpt.pth.tar',\n",
       " '/output/competitions/2020/melanoma-classification/configs/effb5/best-1cycle-wd4e-1-384/checkpoints/13_ckpt.pth.tar',\n",
       " '/output/competitions/2020/melanoma-classification/configs/effb5/best-1cycle-wd4e-1-384/checkpoints/11_ckpt.pth.tar',\n",
       " '/output/competitions/2020/melanoma-classification/configs/effb5/best-1cycle-wd4e-1-384/checkpoints/9_ckpt.pth.tar',\n",
       " '/output/competitions/2020/melanoma-classification/configs/effb5/best-1cycle-wd4e-1-384/checkpoints/7_ckpt.pth.tar',\n",
       " '/output/competitions/2020/melanoma-classification/configs/effb5/best-1cycle-wd4e-1-384/checkpoints/5_ckpt.pth.tar',\n",
       " '/output/competitions/2020/melanoma-classification/configs/effb5/best-1cycle-wd4e-1-384/checkpoints/3_ckpt.pth.tar',\n",
       " '/output/competitions/2020/melanoma-classification/configs/effb5/best-1cycle-wd4e-1-384/checkpoints/1_ckpt.pth.tar']"
      ]
     },
     "execution_count": 42,
     "metadata": {},
     "output_type": "execute_result"
    }
   ],
   "source": [
    "available_ckpts"
   ]
  },
  {
   "cell_type": "code",
   "execution_count": 45,
   "metadata": {
    "collapsed": true,
    "jupyter": {
     "outputs_hidden": true
    }
   },
   "outputs": [
    {
     "name": "stderr",
     "output_type": "stream",
     "text": [
      "  0%|          | 0/10 [00:00<?, ?it/s]INFO:root:\u001b[33mBuilding the network\u001b[0m\n",
      "INFO:root:\u001b[33mSetting up the optimizer ...\u001b[0m\n",
      "INFO:root:\u001b[33m=> Loading model weights from /output/competitions/2020/melanoma-classification/configs/effb5/best-1cycle-wd4e-1-384/checkpoints/best_ckpt.pth.tar\u001b[0m\n",
      "INFO:root:\u001b[33mFreezing specified layers\u001b[0m\n",
      "INFO:root:\u001b[33mUsing loss functions:\u001b[0m\n",
      "INFO:root:{'train': {'name': 'binary-cross-entropy', 'params': {'reduction': 'none'}}, 'val': {'name': 'binary-cross-entropy', 'params': {'reduction': 'none'}}, 'test': {'name': 'binary-cross-entropy', 'params': {'reduction': 'none'}}}\n",
      " 10%|█         | 1/10 [00:01<00:11,  1.28s/it]INFO:root:\u001b[33mBuilding the network\u001b[0m\n",
      "INFO:root:\u001b[33mSetting up the optimizer ...\u001b[0m\n",
      "INFO:root:\u001b[33m=> Loading model weights from /output/competitions/2020/melanoma-classification/configs/effb5/best-1cycle-wd4e-1-384/checkpoints/best_ckpt.pth.tar\u001b[0m\n",
      "INFO:root:\u001b[33mFreezing specified layers\u001b[0m\n",
      "INFO:root:\u001b[33mUsing loss functions:\u001b[0m\n",
      "INFO:root:{'train': {'name': 'binary-cross-entropy', 'params': {'reduction': 'none'}}, 'val': {'name': 'binary-cross-entropy', 'params': {'reduction': 'none'}}, 'test': {'name': 'binary-cross-entropy', 'params': {'reduction': 'none'}}}\n",
      " 20%|██        | 2/10 [00:02<00:10,  1.30s/it]INFO:root:\u001b[33mBuilding the network\u001b[0m\n",
      "INFO:root:\u001b[33mSetting up the optimizer ...\u001b[0m\n",
      "INFO:root:\u001b[33m=> Loading model weights from /output/competitions/2020/melanoma-classification/configs/effb5/best-1cycle-wd4e-1-384/checkpoints/best_ckpt.pth.tar\u001b[0m\n",
      "INFO:root:\u001b[33mFreezing specified layers\u001b[0m\n",
      "INFO:root:\u001b[33mUsing loss functions:\u001b[0m\n",
      "INFO:root:{'train': {'name': 'binary-cross-entropy', 'params': {'reduction': 'none'}}, 'val': {'name': 'binary-cross-entropy', 'params': {'reduction': 'none'}}, 'test': {'name': 'binary-cross-entropy', 'params': {'reduction': 'none'}}}\n",
      " 30%|███       | 3/10 [00:03<00:09,  1.32s/it]INFO:root:\u001b[33mBuilding the network\u001b[0m\n",
      "INFO:root:\u001b[33mSetting up the optimizer ...\u001b[0m\n",
      "INFO:root:\u001b[33m=> Loading model weights from /output/competitions/2020/melanoma-classification/configs/effb5/best-1cycle-wd4e-1-384/checkpoints/best_ckpt.pth.tar\u001b[0m\n",
      "INFO:root:\u001b[33mFreezing specified layers\u001b[0m\n",
      "INFO:root:\u001b[33mUsing loss functions:\u001b[0m\n",
      "INFO:root:{'train': {'name': 'binary-cross-entropy', 'params': {'reduction': 'none'}}, 'val': {'name': 'binary-cross-entropy', 'params': {'reduction': 'none'}}, 'test': {'name': 'binary-cross-entropy', 'params': {'reduction': 'none'}}}\n",
      " 40%|████      | 4/10 [00:05<00:07,  1.32s/it]INFO:root:\u001b[33mBuilding the network\u001b[0m\n",
      "INFO:root:\u001b[33mSetting up the optimizer ...\u001b[0m\n",
      "INFO:root:\u001b[33m=> Loading model weights from /output/competitions/2020/melanoma-classification/configs/effb5/best-1cycle-wd4e-1-384/checkpoints/best_ckpt.pth.tar\u001b[0m\n",
      "INFO:root:\u001b[33mFreezing specified layers\u001b[0m\n",
      "INFO:root:\u001b[33mUsing loss functions:\u001b[0m\n",
      "INFO:root:{'train': {'name': 'binary-cross-entropy', 'params': {'reduction': 'none'}}, 'val': {'name': 'binary-cross-entropy', 'params': {'reduction': 'none'}}, 'test': {'name': 'binary-cross-entropy', 'params': {'reduction': 'none'}}}\n",
      " 50%|█████     | 5/10 [00:06<00:06,  1.38s/it]INFO:root:\u001b[33mBuilding the network\u001b[0m\n",
      "INFO:root:\u001b[33mSetting up the optimizer ...\u001b[0m\n",
      "INFO:root:\u001b[33m=> Loading model weights from /output/competitions/2020/melanoma-classification/configs/effb5/best-1cycle-wd4e-1-384/checkpoints/best_ckpt.pth.tar\u001b[0m\n",
      "INFO:root:\u001b[33mFreezing specified layers\u001b[0m\n",
      "INFO:root:\u001b[33mUsing loss functions:\u001b[0m\n",
      "INFO:root:{'train': {'name': 'binary-cross-entropy', 'params': {'reduction': 'none'}}, 'val': {'name': 'binary-cross-entropy', 'params': {'reduction': 'none'}}, 'test': {'name': 'binary-cross-entropy', 'params': {'reduction': 'none'}}}\n",
      " 60%|██████    | 6/10 [00:08<00:05,  1.37s/it]INFO:root:\u001b[33mBuilding the network\u001b[0m\n",
      "INFO:root:\u001b[33mSetting up the optimizer ...\u001b[0m\n",
      "INFO:root:\u001b[33m=> Loading model weights from /output/competitions/2020/melanoma-classification/configs/effb5/best-1cycle-wd4e-1-384/checkpoints/best_ckpt.pth.tar\u001b[0m\n",
      "INFO:root:\u001b[33mFreezing specified layers\u001b[0m\n",
      "INFO:root:\u001b[33mUsing loss functions:\u001b[0m\n",
      "INFO:root:{'train': {'name': 'binary-cross-entropy', 'params': {'reduction': 'none'}}, 'val': {'name': 'binary-cross-entropy', 'params': {'reduction': 'none'}}, 'test': {'name': 'binary-cross-entropy', 'params': {'reduction': 'none'}}}\n",
      " 70%|███████   | 7/10 [00:09<00:04,  1.49s/it]INFO:root:\u001b[33mBuilding the network\u001b[0m\n",
      "INFO:root:\u001b[33mSetting up the optimizer ...\u001b[0m\n",
      "INFO:root:\u001b[33m=> Loading model weights from /output/competitions/2020/melanoma-classification/configs/effb5/best-1cycle-wd4e-1-384/checkpoints/best_ckpt.pth.tar\u001b[0m\n",
      "INFO:root:\u001b[33mFreezing specified layers\u001b[0m\n",
      "INFO:root:\u001b[33mUsing loss functions:\u001b[0m\n",
      "INFO:root:{'train': {'name': 'binary-cross-entropy', 'params': {'reduction': 'none'}}, 'val': {'name': 'binary-cross-entropy', 'params': {'reduction': 'none'}}, 'test': {'name': 'binary-cross-entropy', 'params': {'reduction': 'none'}}}\n",
      " 80%|████████  | 8/10 [00:11<00:02,  1.45s/it]INFO:root:\u001b[33mBuilding the network\u001b[0m\n",
      "INFO:root:\u001b[33mSetting up the optimizer ...\u001b[0m\n",
      "INFO:root:\u001b[33m=> Loading model weights from /output/competitions/2020/melanoma-classification/configs/effb5/best-1cycle-wd4e-1-384/checkpoints/best_ckpt.pth.tar\u001b[0m\n",
      "INFO:root:\u001b[33mFreezing specified layers\u001b[0m\n",
      "INFO:root:\u001b[33mUsing loss functions:\u001b[0m\n",
      "INFO:root:{'train': {'name': 'binary-cross-entropy', 'params': {'reduction': 'none'}}, 'val': {'name': 'binary-cross-entropy', 'params': {'reduction': 'none'}}, 'test': {'name': 'binary-cross-entropy', 'params': {'reduction': 'none'}}}\n",
      " 90%|█████████ | 9/10 [00:12<00:01,  1.40s/it]INFO:root:\u001b[33mBuilding the network\u001b[0m\n",
      "INFO:root:\u001b[33mSetting up the optimizer ...\u001b[0m\n",
      "INFO:root:\u001b[33m=> Loading model weights from /output/competitions/2020/melanoma-classification/configs/effb5/best-1cycle-wd4e-1-384/checkpoints/best_ckpt.pth.tar\u001b[0m\n",
      "INFO:root:\u001b[33mFreezing specified layers\u001b[0m\n",
      "INFO:root:\u001b[33mUsing loss functions:\u001b[0m\n",
      "INFO:root:{'train': {'name': 'binary-cross-entropy', 'params': {'reduction': 'none'}}, 'val': {'name': 'binary-cross-entropy', 'params': {'reduction': 'none'}}, 'test': {'name': 'binary-cross-entropy', 'params': {'reduction': 'none'}}}\n",
      "100%|██████████| 10/10 [00:13<00:00,  1.39s/it]\n"
     ]
    }
   ],
   "source": [
    "swa_epochs = np.arange(5, 15)\n",
    "\n",
    "for epoch in tqdm(swa_epochs):\n",
    "    config.model['load']['epoch'] = epoch\n",
    "    model = model_factory.create(config.model['name'], **{'config': config})\n",
    "    swa_model.update_parameters(model.network)"
   ]
  },
  {
   "cell_type": "code",
   "execution_count": null,
   "metadata": {},
   "outputs": [],
   "source": []
  },
  {
   "cell_type": "code",
   "execution_count": 46,
   "metadata": {},
   "outputs": [
    {
     "name": "stderr",
     "output_type": "stream",
     "text": [
      "INFO:root:\u001b[34mCreating train DataLoader\u001b[0m\n"
     ]
    },
    {
     "name": "stdout",
     "output_type": "stream",
     "text": [
      "\u001b[33m=> Loading dataset version file: [siim-isic-melanoma, v3.0.0, train]\u001b[0m\n"
     ]
    },
    {
     "name": "stderr",
     "output_type": "stream",
     "text": [
      "Loading items: 100%|██████████| 39015/39015 [00:00<00:00, 668216.07it/s]\n"
     ]
    }
   ],
   "source": [
    "# load the train data loader for doing a forward pass on the model\n",
    "train_dataloader, _ = get_dataloader(\n",
    "        config.data, 'train',\n",
    "        config.model['batch_size'],\n",
    "        num_workers=10,\n",
    "        shuffle=False,\n",
    "        drop_last=False)"
   ]
  },
  {
   "cell_type": "code",
   "execution_count": 47,
   "metadata": {},
   "outputs": [
    {
     "name": "stderr",
     "output_type": "stream",
     "text": [
      "  0%|          | 0/133 [00:00<?, ?it/s]/workspace/coreml/coreml/data/vision/image.py:44: UserWarning: The given NumPy array is not writeable, and PyTorch does not support non-writeable tensors. This means you can write to the underlying (supposedly non-writeable) NumPy array using the tensor. You may want to copy the array to protect its data or make it writeable before converting it to a tensor. This type of warning will be suppressed for the rest of this program. (Triggered internally at  /pytorch/torch/csrc/utils/tensor_numpy.cpp:141.)\n",
      "  image = torch.from_numpy(image).float()\n",
      "/workspace/coreml/coreml/data/vision/image.py:44: UserWarning: The given NumPy array is not writeable, and PyTorch does not support non-writeable tensors. This means you can write to the underlying (supposedly non-writeable) NumPy array using the tensor. You may want to copy the array to protect its data or make it writeable before converting it to a tensor. This type of warning will be suppressed for the rest of this program. (Triggered internally at  /pytorch/torch/csrc/utils/tensor_numpy.cpp:141.)\n",
      "  image = torch.from_numpy(image).float()\n",
      "/workspace/coreml/coreml/data/vision/image.py:44: UserWarning: The given NumPy array is not writeable, and PyTorch does not support non-writeable tensors. This means you can write to the underlying (supposedly non-writeable) NumPy array using the tensor. You may want to copy the array to protect its data or make it writeable before converting it to a tensor. This type of warning will be suppressed for the rest of this program. (Triggered internally at  /pytorch/torch/csrc/utils/tensor_numpy.cpp:141.)\n",
      "  image = torch.from_numpy(image).float()\n",
      "/workspace/coreml/coreml/data/vision/image.py:44: UserWarning: The given NumPy array is not writeable, and PyTorch does not support non-writeable tensors. This means you can write to the underlying (supposedly non-writeable) NumPy array using the tensor. You may want to copy the array to protect its data or make it writeable before converting it to a tensor. This type of warning will be suppressed for the rest of this program. (Triggered internally at  /pytorch/torch/csrc/utils/tensor_numpy.cpp:141.)\n",
      "  image = torch.from_numpy(image).float()\n",
      "/workspace/coreml/coreml/data/vision/image.py:44: UserWarning: The given NumPy array is not writeable, and PyTorch does not support non-writeable tensors. This means you can write to the underlying (supposedly non-writeable) NumPy array using the tensor. You may want to copy the array to protect its data or make it writeable before converting it to a tensor. This type of warning will be suppressed for the rest of this program. (Triggered internally at  /pytorch/torch/csrc/utils/tensor_numpy.cpp:141.)\n",
      "  image = torch.from_numpy(image).float()\n",
      "/workspace/coreml/coreml/data/vision/image.py:44: UserWarning: The given NumPy array is not writeable, and PyTorch does not support non-writeable tensors. This means you can write to the underlying (supposedly non-writeable) NumPy array using the tensor. You may want to copy the array to protect its data or make it writeable before converting it to a tensor. This type of warning will be suppressed for the rest of this program. (Triggered internally at  /pytorch/torch/csrc/utils/tensor_numpy.cpp:141.)\n",
      "  image = torch.from_numpy(image).float()\n",
      "/workspace/coreml/coreml/data/vision/image.py:44: UserWarning: The given NumPy array is not writeable, and PyTorch does not support non-writeable tensors. This means you can write to the underlying (supposedly non-writeable) NumPy array using the tensor. You may want to copy the array to protect its data or make it writeable before converting it to a tensor. This type of warning will be suppressed for the rest of this program. (Triggered internally at  /pytorch/torch/csrc/utils/tensor_numpy.cpp:141.)\n",
      "  image = torch.from_numpy(image).float()\n",
      "/workspace/coreml/coreml/data/vision/image.py:44: UserWarning: The given NumPy array is not writeable, and PyTorch does not support non-writeable tensors. This means you can write to the underlying (supposedly non-writeable) NumPy array using the tensor. You may want to copy the array to protect its data or make it writeable before converting it to a tensor. This type of warning will be suppressed for the rest of this program. (Triggered internally at  /pytorch/torch/csrc/utils/tensor_numpy.cpp:141.)\n",
      "  image = torch.from_numpy(image).float()\n",
      "/workspace/coreml/coreml/data/vision/image.py:44: UserWarning: The given NumPy array is not writeable, and PyTorch does not support non-writeable tensors. This means you can write to the underlying (supposedly non-writeable) NumPy array using the tensor. You may want to copy the array to protect its data or make it writeable before converting it to a tensor. This type of warning will be suppressed for the rest of this program. (Triggered internally at  /pytorch/torch/csrc/utils/tensor_numpy.cpp:141.)\n",
      "  image = torch.from_numpy(image).float()\n",
      "100%|██████████| 133/133 [01:03<00:00,  2.09it/s]\n"
     ]
    }
   ],
   "source": [
    "# update batch norm params\n",
    "for batch in tqdm(train_dataloader):\n",
    "    swa_model(batch['signals'].cuda())"
   ]
  },
  {
   "cell_type": "code",
   "execution_count": 49,
   "metadata": {},
   "outputs": [],
   "source": [
    "# set the SWA model as the network\n",
    "model.network = swa_model"
   ]
  },
  {
   "cell_type": "code",
   "execution_count": null,
   "metadata": {},
   "outputs": [
    {
     "name": "stderr",
     "output_type": "stream",
     "text": [
      "INFO:root:\u001b[34mSetting network training mode:\u001b[0m: \u001b[33m\u001b[35meval\u001b[0m\u001b[0m\n",
      "  0%|          | 0/205 [00:00<?, ?it/s]/workspace/coreml/coreml/data/vision/image.py:44: UserWarning: The given NumPy array is not writeable, and PyTorch does not support non-writeable tensors. This means you can write to the underlying (supposedly non-writeable) NumPy array using the tensor. You may want to copy the array to protect its data or make it writeable before converting it to a tensor. This type of warning will be suppressed for the rest of this program. (Triggered internally at  /pytorch/torch/csrc/utils/tensor_numpy.cpp:141.)\n",
      "  image = torch.from_numpy(image).float()\n",
      "/workspace/coreml/coreml/data/vision/image.py:44: UserWarning: The given NumPy array is not writeable, and PyTorch does not support non-writeable tensors. This means you can write to the underlying (supposedly non-writeable) NumPy array using the tensor. You may want to copy the array to protect its data or make it writeable before converting it to a tensor. This type of warning will be suppressed for the rest of this program. (Triggered internally at  /pytorch/torch/csrc/utils/tensor_numpy.cpp:141.)\n",
      "  image = torch.from_numpy(image).float()\n",
      "/workspace/coreml/coreml/data/vision/image.py:44: UserWarning: The given NumPy array is not writeable, and PyTorch does not support non-writeable tensors. This means you can write to the underlying (supposedly non-writeable) NumPy array using the tensor. You may want to copy the array to protect its data or make it writeable before converting it to a tensor. This type of warning will be suppressed for the rest of this program. (Triggered internally at  /pytorch/torch/csrc/utils/tensor_numpy.cpp:141.)\n",
      "  image = torch.from_numpy(image).float()\n",
      "/workspace/coreml/coreml/data/vision/image.py:44: UserWarning: The given NumPy array is not writeable, and PyTorch does not support non-writeable tensors. This means you can write to the underlying (supposedly non-writeable) NumPy array using the tensor. You may want to copy the array to protect its data or make it writeable before converting it to a tensor. This type of warning will be suppressed for the rest of this program. (Triggered internally at  /pytorch/torch/csrc/utils/tensor_numpy.cpp:141.)\n",
      "  image = torch.from_numpy(image).float()\n",
      "/workspace/coreml/coreml/data/vision/image.py:44: UserWarning: The given NumPy array is not writeable, and PyTorch does not support non-writeable tensors. This means you can write to the underlying (supposedly non-writeable) NumPy array using the tensor. You may want to copy the array to protect its data or make it writeable before converting it to a tensor. This type of warning will be suppressed for the rest of this program. (Triggered internally at  /pytorch/torch/csrc/utils/tensor_numpy.cpp:141.)\n",
      "  image = torch.from_numpy(image).float()\n"
     ]
    }
   ],
   "source": [
    "# compute the new results\n",
    "results = model.process_epoch(val_dataloader, mode='val', use_wandb=False)"
   ]
  },
  {
   "cell_type": "code",
   "execution_count": null,
   "metadata": {},
   "outputs": [],
   "source": [
    "# results['auc-roc']"
   ]
  },
  {
   "cell_type": "code",
   "execution_count": null,
   "metadata": {},
   "outputs": [],
   "source": []
  }
 ],
 "metadata": {
  "kernelspec": {
   "display_name": "Python 3",
   "language": "python",
   "name": "python3"
  },
  "language_info": {
   "codemirror_mode": {
    "name": "ipython",
    "version": 3
   },
   "file_extension": ".py",
   "mimetype": "text/x-python",
   "name": "python",
   "nbconvert_exporter": "python",
   "pygments_lexer": "ipython3",
   "version": "3.6.9"
  }
 },
 "nbformat": 4,
 "nbformat_minor": 4
}
