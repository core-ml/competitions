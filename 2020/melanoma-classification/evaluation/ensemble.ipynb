{
 "cells": [
  {
   "cell_type": "code",
   "execution_count": 3,
   "metadata": {},
   "outputs": [],
   "source": [
    "import pandas as pd"
   ]
  },
  {
   "cell_type": "code",
   "execution_count": 20,
   "metadata": {},
   "outputs": [],
   "source": [
    "submission_paths = [\n",
    "    'submissions/effnet-b5-ns-balanced-affine-jitter-scheduler-cv-mean.csv',\n",
    "    'submissions/effnet-b6-ns-balanced-affine-jitter-scheduler-cv-mean.csv',\n",
    "    'submissions/effnet-b7-ns-balanced-affine-jitter-scheduler-cv-mean.csv',\n",
    "    'submissions/effnet-b5-ns-balanced-affine-1cycle-wd-scheduler-cv-mean.csv',\n",
    "    'submissions/effnet-b3-balanced-affine-jitter-scheduler-cv-mean.csv'\n",
    "]"
   ]
  },
  {
   "cell_type": "code",
   "execution_count": 21,
   "metadata": {},
   "outputs": [],
   "source": [
    "all_predictions = None\n",
    "\n",
    "for index, submission_path in enumerate(submission_paths):\n",
    "    model_predictions = pd.read_csv(submission_path)\n",
    "    model_predictions = model_predictions.rename(columns={'target': f'target{index+1}'})\n",
    "    if all_predictions is None:\n",
    "        all_predictions = model_predictions\n",
    "    else:\n",
    "        all_predictions = pd.merge(all_predictions, model_predictions, on='image_name')"
   ]
  },
  {
   "cell_type": "code",
   "execution_count": 22,
   "metadata": {},
   "outputs": [
    {
     "data": {
      "text/html": [
       "<div>\n",
       "<style scoped>\n",
       "    .dataframe tbody tr th:only-of-type {\n",
       "        vertical-align: middle;\n",
       "    }\n",
       "\n",
       "    .dataframe tbody tr th {\n",
       "        vertical-align: top;\n",
       "    }\n",
       "\n",
       "    .dataframe thead th {\n",
       "        text-align: right;\n",
       "    }\n",
       "</style>\n",
       "<table border=\"1\" class=\"dataframe\">\n",
       "  <thead>\n",
       "    <tr style=\"text-align: right;\">\n",
       "      <th></th>\n",
       "      <th>image_name</th>\n",
       "      <th>target1</th>\n",
       "      <th>target2</th>\n",
       "      <th>target3</th>\n",
       "      <th>target4</th>\n",
       "      <th>target5</th>\n",
       "    </tr>\n",
       "  </thead>\n",
       "  <tbody>\n",
       "    <tr>\n",
       "      <th>0</th>\n",
       "      <td>ISIC_0052060</td>\n",
       "      <td>0.016481</td>\n",
       "      <td>0.017987</td>\n",
       "      <td>0.030541</td>\n",
       "      <td>0.002157</td>\n",
       "      <td>0.029731</td>\n",
       "    </tr>\n",
       "    <tr>\n",
       "      <th>1</th>\n",
       "      <td>ISIC_0052349</td>\n",
       "      <td>0.001744</td>\n",
       "      <td>0.008006</td>\n",
       "      <td>0.005298</td>\n",
       "      <td>0.001688</td>\n",
       "      <td>0.001369</td>\n",
       "    </tr>\n",
       "    <tr>\n",
       "      <th>2</th>\n",
       "      <td>ISIC_0058510</td>\n",
       "      <td>0.004452</td>\n",
       "      <td>0.014173</td>\n",
       "      <td>0.008382</td>\n",
       "      <td>0.001644</td>\n",
       "      <td>0.006452</td>\n",
       "    </tr>\n",
       "    <tr>\n",
       "      <th>3</th>\n",
       "      <td>ISIC_0073313</td>\n",
       "      <td>0.002405</td>\n",
       "      <td>0.002266</td>\n",
       "      <td>0.009098</td>\n",
       "      <td>0.002389</td>\n",
       "      <td>0.002968</td>\n",
       "    </tr>\n",
       "    <tr>\n",
       "      <th>4</th>\n",
       "      <td>ISIC_0073502</td>\n",
       "      <td>0.028791</td>\n",
       "      <td>0.025128</td>\n",
       "      <td>0.029619</td>\n",
       "      <td>0.002645</td>\n",
       "      <td>0.001864</td>\n",
       "    </tr>\n",
       "  </tbody>\n",
       "</table>\n",
       "</div>"
      ],
      "text/plain": [
       "     image_name   target1   target2   target3   target4   target5\n",
       "0  ISIC_0052060  0.016481  0.017987  0.030541  0.002157  0.029731\n",
       "1  ISIC_0052349  0.001744  0.008006  0.005298  0.001688  0.001369\n",
       "2  ISIC_0058510  0.004452  0.014173  0.008382  0.001644  0.006452\n",
       "3  ISIC_0073313  0.002405  0.002266  0.009098  0.002389  0.002968\n",
       "4  ISIC_0073502  0.028791  0.025128  0.029619  0.002645  0.001864"
      ]
     },
     "execution_count": 22,
     "metadata": {},
     "output_type": "execute_result"
    }
   ],
   "source": [
    "all_predictions.head()"
   ]
  },
  {
   "cell_type": "code",
   "execution_count": 23,
   "metadata": {},
   "outputs": [],
   "source": [
    "target_columns = [f'target{index+1}' for index in range(len(submission_paths))]"
   ]
  },
  {
   "cell_type": "code",
   "execution_count": 24,
   "metadata": {},
   "outputs": [
    {
     "data": {
      "text/plain": [
       "['target1', 'target2', 'target3', 'target4', 'target5']"
      ]
     },
     "execution_count": 24,
     "metadata": {},
     "output_type": "execute_result"
    }
   ],
   "source": [
    "target_columns"
   ]
  },
  {
   "cell_type": "code",
   "execution_count": 25,
   "metadata": {},
   "outputs": [
    {
     "data": {
      "text/html": [
       "<div>\n",
       "<style scoped>\n",
       "    .dataframe tbody tr th:only-of-type {\n",
       "        vertical-align: middle;\n",
       "    }\n",
       "\n",
       "    .dataframe tbody tr th {\n",
       "        vertical-align: top;\n",
       "    }\n",
       "\n",
       "    .dataframe thead th {\n",
       "        text-align: right;\n",
       "    }\n",
       "</style>\n",
       "<table border=\"1\" class=\"dataframe\">\n",
       "  <thead>\n",
       "    <tr style=\"text-align: right;\">\n",
       "      <th></th>\n",
       "      <th>image_name</th>\n",
       "      <th>target1</th>\n",
       "      <th>target2</th>\n",
       "      <th>target3</th>\n",
       "      <th>target4</th>\n",
       "      <th>target5</th>\n",
       "    </tr>\n",
       "  </thead>\n",
       "  <tbody>\n",
       "    <tr>\n",
       "      <th>0</th>\n",
       "      <td>ISIC_0052060</td>\n",
       "      <td>0.016481</td>\n",
       "      <td>0.017987</td>\n",
       "      <td>0.030541</td>\n",
       "      <td>0.002157</td>\n",
       "      <td>0.029731</td>\n",
       "    </tr>\n",
       "    <tr>\n",
       "      <th>1</th>\n",
       "      <td>ISIC_0052349</td>\n",
       "      <td>0.001744</td>\n",
       "      <td>0.008006</td>\n",
       "      <td>0.005298</td>\n",
       "      <td>0.001688</td>\n",
       "      <td>0.001369</td>\n",
       "    </tr>\n",
       "    <tr>\n",
       "      <th>2</th>\n",
       "      <td>ISIC_0058510</td>\n",
       "      <td>0.004452</td>\n",
       "      <td>0.014173</td>\n",
       "      <td>0.008382</td>\n",
       "      <td>0.001644</td>\n",
       "      <td>0.006452</td>\n",
       "    </tr>\n",
       "    <tr>\n",
       "      <th>3</th>\n",
       "      <td>ISIC_0073313</td>\n",
       "      <td>0.002405</td>\n",
       "      <td>0.002266</td>\n",
       "      <td>0.009098</td>\n",
       "      <td>0.002389</td>\n",
       "      <td>0.002968</td>\n",
       "    </tr>\n",
       "    <tr>\n",
       "      <th>4</th>\n",
       "      <td>ISIC_0073502</td>\n",
       "      <td>0.028791</td>\n",
       "      <td>0.025128</td>\n",
       "      <td>0.029619</td>\n",
       "      <td>0.002645</td>\n",
       "      <td>0.001864</td>\n",
       "    </tr>\n",
       "    <tr>\n",
       "      <th>...</th>\n",
       "      <td>...</td>\n",
       "      <td>...</td>\n",
       "      <td>...</td>\n",
       "      <td>...</td>\n",
       "      <td>...</td>\n",
       "      <td>...</td>\n",
       "    </tr>\n",
       "    <tr>\n",
       "      <th>10977</th>\n",
       "      <td>ISIC_9992485</td>\n",
       "      <td>0.064701</td>\n",
       "      <td>0.047101</td>\n",
       "      <td>0.058131</td>\n",
       "      <td>0.006015</td>\n",
       "      <td>0.043595</td>\n",
       "    </tr>\n",
       "    <tr>\n",
       "      <th>10978</th>\n",
       "      <td>ISIC_9996992</td>\n",
       "      <td>0.237437</td>\n",
       "      <td>0.413337</td>\n",
       "      <td>0.298989</td>\n",
       "      <td>0.432032</td>\n",
       "      <td>0.116777</td>\n",
       "    </tr>\n",
       "    <tr>\n",
       "      <th>10979</th>\n",
       "      <td>ISIC_9997917</td>\n",
       "      <td>0.336075</td>\n",
       "      <td>0.373075</td>\n",
       "      <td>0.364439</td>\n",
       "      <td>0.160063</td>\n",
       "      <td>0.535186</td>\n",
       "    </tr>\n",
       "    <tr>\n",
       "      <th>10980</th>\n",
       "      <td>ISIC_9998234</td>\n",
       "      <td>0.019738</td>\n",
       "      <td>0.042281</td>\n",
       "      <td>0.012740</td>\n",
       "      <td>0.005958</td>\n",
       "      <td>0.012843</td>\n",
       "    </tr>\n",
       "    <tr>\n",
       "      <th>10981</th>\n",
       "      <td>ISIC_9999302</td>\n",
       "      <td>0.307069</td>\n",
       "      <td>0.511643</td>\n",
       "      <td>0.355933</td>\n",
       "      <td>0.204822</td>\n",
       "      <td>0.630655</td>\n",
       "    </tr>\n",
       "  </tbody>\n",
       "</table>\n",
       "<p>10982 rows × 6 columns</p>\n",
       "</div>"
      ],
      "text/plain": [
       "         image_name   target1   target2   target3   target4   target5\n",
       "0      ISIC_0052060  0.016481  0.017987  0.030541  0.002157  0.029731\n",
       "1      ISIC_0052349  0.001744  0.008006  0.005298  0.001688  0.001369\n",
       "2      ISIC_0058510  0.004452  0.014173  0.008382  0.001644  0.006452\n",
       "3      ISIC_0073313  0.002405  0.002266  0.009098  0.002389  0.002968\n",
       "4      ISIC_0073502  0.028791  0.025128  0.029619  0.002645  0.001864\n",
       "...             ...       ...       ...       ...       ...       ...\n",
       "10977  ISIC_9992485  0.064701  0.047101  0.058131  0.006015  0.043595\n",
       "10978  ISIC_9996992  0.237437  0.413337  0.298989  0.432032  0.116777\n",
       "10979  ISIC_9997917  0.336075  0.373075  0.364439  0.160063  0.535186\n",
       "10980  ISIC_9998234  0.019738  0.042281  0.012740  0.005958  0.012843\n",
       "10981  ISIC_9999302  0.307069  0.511643  0.355933  0.204822  0.630655\n",
       "\n",
       "[10982 rows x 6 columns]"
      ]
     },
     "execution_count": 25,
     "metadata": {},
     "output_type": "execute_result"
    }
   ],
   "source": [
    "all_predictions"
   ]
  },
  {
   "cell_type": "code",
   "execution_count": 26,
   "metadata": {},
   "outputs": [],
   "source": [
    "# all_predictions['variance'] = all_predictions[target_columns].median(axis=1)"
   ]
  },
  {
   "cell_type": "code",
   "execution_count": 27,
   "metadata": {},
   "outputs": [],
   "source": [
    "# all_predictions.sort_values(by='variance')"
   ]
  },
  {
   "cell_type": "code",
   "execution_count": null,
   "metadata": {},
   "outputs": [],
   "source": []
  },
  {
   "cell_type": "code",
   "execution_count": 28,
   "metadata": {},
   "outputs": [],
   "source": [
    "all_predictions['target'] = all_predictions[target_columns].mean(axis=1)"
   ]
  },
  {
   "cell_type": "code",
   "execution_count": 29,
   "metadata": {},
   "outputs": [],
   "source": [
    "all_predictions = all_predictions.drop(columns=target_columns)"
   ]
  },
  {
   "cell_type": "code",
   "execution_count": 30,
   "metadata": {},
   "outputs": [
    {
     "data": {
      "text/html": [
       "<div>\n",
       "<style scoped>\n",
       "    .dataframe tbody tr th:only-of-type {\n",
       "        vertical-align: middle;\n",
       "    }\n",
       "\n",
       "    .dataframe tbody tr th {\n",
       "        vertical-align: top;\n",
       "    }\n",
       "\n",
       "    .dataframe thead th {\n",
       "        text-align: right;\n",
       "    }\n",
       "</style>\n",
       "<table border=\"1\" class=\"dataframe\">\n",
       "  <thead>\n",
       "    <tr style=\"text-align: right;\">\n",
       "      <th></th>\n",
       "      <th>image_name</th>\n",
       "      <th>target</th>\n",
       "    </tr>\n",
       "  </thead>\n",
       "  <tbody>\n",
       "    <tr>\n",
       "      <th>0</th>\n",
       "      <td>ISIC_0052060</td>\n",
       "      <td>0.019379</td>\n",
       "    </tr>\n",
       "    <tr>\n",
       "      <th>1</th>\n",
       "      <td>ISIC_0052349</td>\n",
       "      <td>0.003621</td>\n",
       "    </tr>\n",
       "    <tr>\n",
       "      <th>2</th>\n",
       "      <td>ISIC_0058510</td>\n",
       "      <td>0.007021</td>\n",
       "    </tr>\n",
       "    <tr>\n",
       "      <th>3</th>\n",
       "      <td>ISIC_0073313</td>\n",
       "      <td>0.003825</td>\n",
       "    </tr>\n",
       "    <tr>\n",
       "      <th>4</th>\n",
       "      <td>ISIC_0073502</td>\n",
       "      <td>0.017609</td>\n",
       "    </tr>\n",
       "    <tr>\n",
       "      <th>...</th>\n",
       "      <td>...</td>\n",
       "      <td>...</td>\n",
       "    </tr>\n",
       "    <tr>\n",
       "      <th>10977</th>\n",
       "      <td>ISIC_9992485</td>\n",
       "      <td>0.043908</td>\n",
       "    </tr>\n",
       "    <tr>\n",
       "      <th>10978</th>\n",
       "      <td>ISIC_9996992</td>\n",
       "      <td>0.299714</td>\n",
       "    </tr>\n",
       "    <tr>\n",
       "      <th>10979</th>\n",
       "      <td>ISIC_9997917</td>\n",
       "      <td>0.353768</td>\n",
       "    </tr>\n",
       "    <tr>\n",
       "      <th>10980</th>\n",
       "      <td>ISIC_9998234</td>\n",
       "      <td>0.018712</td>\n",
       "    </tr>\n",
       "    <tr>\n",
       "      <th>10981</th>\n",
       "      <td>ISIC_9999302</td>\n",
       "      <td>0.402024</td>\n",
       "    </tr>\n",
       "  </tbody>\n",
       "</table>\n",
       "<p>10982 rows × 2 columns</p>\n",
       "</div>"
      ],
      "text/plain": [
       "         image_name    target\n",
       "0      ISIC_0052060  0.019379\n",
       "1      ISIC_0052349  0.003621\n",
       "2      ISIC_0058510  0.007021\n",
       "3      ISIC_0073313  0.003825\n",
       "4      ISIC_0073502  0.017609\n",
       "...             ...       ...\n",
       "10977  ISIC_9992485  0.043908\n",
       "10978  ISIC_9996992  0.299714\n",
       "10979  ISIC_9997917  0.353768\n",
       "10980  ISIC_9998234  0.018712\n",
       "10981  ISIC_9999302  0.402024\n",
       "\n",
       "[10982 rows x 2 columns]"
      ]
     },
     "execution_count": 30,
     "metadata": {},
     "output_type": "execute_result"
    }
   ],
   "source": [
    "all_predictions"
   ]
  },
  {
   "cell_type": "code",
   "execution_count": 31,
   "metadata": {},
   "outputs": [],
   "source": [
    "all_predictions.to_csv('submissions/ensembles/effnet-b5-input-sizes-b6-b7-b3.csv', index=False)"
   ]
  },
  {
   "cell_type": "code",
   "execution_count": null,
   "metadata": {},
   "outputs": [],
   "source": []
  }
 ],
 "metadata": {
  "kernelspec": {
   "display_name": "Python 3",
   "language": "python",
   "name": "python3"
  },
  "language_info": {
   "codemirror_mode": {
    "name": "ipython",
    "version": 3
   },
   "file_extension": ".py",
   "mimetype": "text/x-python",
   "name": "python",
   "nbconvert_exporter": "python",
   "pygments_lexer": "ipython3",
   "version": "3.6.9"
  }
 },
 "nbformat": 4,
 "nbformat_minor": 4
}
