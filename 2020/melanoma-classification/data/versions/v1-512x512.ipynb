{
 "cells": [
  {
   "cell_type": "code",
   "execution_count": 1,
   "metadata": {},
   "outputs": [],
   "source": [
    "from os.path import join\n",
    "from coreml.utils.io import read_yml, save_yml"
   ]
  },
  {
   "cell_type": "code",
   "execution_count": 2,
   "metadata": {},
   "outputs": [],
   "source": [
    "data_root = '/data/siim-isic-melanoma/processed/'"
   ]
  },
  {
   "cell_type": "code",
   "execution_count": 5,
   "metadata": {},
   "outputs": [],
   "source": [
    "version = 'v3.0'\n",
    "n_splits = 5\n",
    "split_versions = [f'{version}.{split}' for split in range(n_splits)]\n",
    "save_version = 'v4.0'"
   ]
  },
  {
   "cell_type": "code",
   "execution_count": 9,
   "metadata": {},
   "outputs": [
    {
     "name": "stdout",
     "output_type": "stream",
     "text": [
      "Saving to /data/siim-isic-melanoma/processed/versions/v4.0.0.yml\n",
      "Saving to /data/siim-isic-melanoma/processed/versions/v4.0.1.yml\n",
      "Saving to /data/siim-isic-melanoma/processed/versions/v4.0.2.yml\n",
      "Saving to /data/siim-isic-melanoma/processed/versions/v4.0.3.yml\n",
      "Saving to /data/siim-isic-melanoma/processed/versions/v4.0.4.yml\n"
     ]
    }
   ],
   "source": [
    "for split_version in split_versions:\n",
    "    version_path = join(data_root, f'versions/{split_version}.yml')\n",
    "    data_config = read_yml(version_path)\n",
    "    \n",
    "    for mode in ['train', 'val', 'test']:\n",
    "        file_list = data_config[mode]['file']\n",
    "        file_list = [file.replace('384x384', '512x512') for file in file_list]\n",
    "        data_config[mode]['file'] = file_list\n",
    "        \n",
    "    split_save_version = split_version.replace(version, save_version)\n",
    "    save_path = join(data_root, f'versions/{split_save_version}.yml')\n",
    "    print(f'Saving to {save_path}')\n",
    "    save_yml(save_path, data_config)"
   ]
  },
  {
   "cell_type": "code",
   "execution_count": 8,
   "metadata": {},
   "outputs": [
    {
     "data": {
      "text/plain": [
       "'/data/siim-isic-melanoma/raw/2020/384x384/train/ISIC_0052212.jpg'"
      ]
     },
     "execution_count": 8,
     "metadata": {},
     "output_type": "execute_result"
    }
   ],
   "source": [
    "file_list[0]"
   ]
  },
  {
   "cell_type": "code",
   "execution_count": 10,
   "metadata": {},
   "outputs": [],
   "source": []
  },
  {
   "cell_type": "code",
   "execution_count": 11,
   "metadata": {},
   "outputs": [],
   "source": []
  },
  {
   "cell_type": "code",
   "execution_count": 12,
   "metadata": {},
   "outputs": [],
   "source": []
  },
  {
   "cell_type": "code",
   "execution_count": null,
   "metadata": {},
   "outputs": [],
   "source": []
  }
 ],
 "metadata": {
  "kernelspec": {
   "display_name": "Python 3",
   "language": "python",
   "name": "python3"
  },
  "language_info": {
   "codemirror_mode": {
    "name": "ipython",
    "version": 3
   },
   "file_extension": ".py",
   "mimetype": "text/x-python",
   "name": "python",
   "nbconvert_exporter": "python",
   "pygments_lexer": "ipython3",
   "version": "3.6.9"
  }
 },
 "nbformat": 4,
 "nbformat_minor": 4
}
