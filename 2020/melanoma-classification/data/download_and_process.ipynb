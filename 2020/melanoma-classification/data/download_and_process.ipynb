{
 "cells": [
  {
   "cell_type": "markdown",
   "metadata": {},
   "source": [
    "First, we need to download and create the folds on which the model will be trained. \n",
    "We'll use data from the 2020 competition as well as from 2019 (which includes both 2018 and 2017).\n",
    "\n",
    "First step is to download the Triple-Stratified leak-free KFold 2020 data. The Triple-Stratified fold is explained [here](https://www.kaggle.com/c/siim-isic-melanoma-classification/discussion/165526) and the JPEG files with the meta data can be downloaded from [here](https://www.kaggle.com/c/siim-isic-melanoma-classification/discussion/164092). We'll only focus on `384x384` images to begin with. The corresponding files should be downloaded and unzipped in `/data/siim-isic-melanoma/raw/2020/`.\n",
    "\n",
    "Next, we'll download the data from the 2019 competition from [here](https://www.kaggle.com/c/siim-isic-melanoma-classification/discussion/164910). Again, we'll only focus on `384x384` images. The corresponding files should be downloaded and unzipped in `/data/siim-isic-melanoma/raw/2019/`.\n",
    "\n",
    "Your `/data/siim-isic-melanoma/raw` should look like this:\n",
    "\n",
    "```\n",
    "raw\n",
    "├── 2019\n",
    "│   ├── 384x384\n",
    "│   │   └── train\n",
    "│   └── train.csv\n",
    "└── 2020\n",
    "    ├── 384x384\n",
    "    │   ├── test\n",
    "    │   └── train\n",
    "    ├── sample_submission.csv\n",
    "    ├── test.csv\n",
    "    └── train.csv\n",
    "```\n",
    "\n",
    "where the folder `train` and `test` folders contain the respective images.\n",
    "\n",
    "We can segregate the 2019 data into the examples that newly belong to 2019, and those that were a part of the 2018 and 2017 competitions as well. This can be done based on the image sizes as mentioned under **Description** [here](https://www.kaggle.com/c/siim-isic-melanoma-classification/discussion/164910): all images of shape `1024x1024` (which belong to 2019 only) are marked under even TFRecords, all others are part of the odd-numbered TFRecords. This information is present in `train.csv` for the 2019 data.\n",
    "\n",
    "For now, we'll create our folds by excluding the data from 2019 but using the data from 2018 + 2017.\n",
    "\n",
    "We will also remove the duplicates which are marked as -1 under the `tfrecord` column."
   ]
  },
  {
   "cell_type": "code",
   "execution_count": 59,
   "metadata": {},
   "outputs": [],
   "source": [
    "from os.path import join\n",
    "from os import makedirs\n",
    "import pandas as pd\n",
    "import numpy as np\n",
    "from sklearn.model_selection import KFold\n",
    "from coreml.utils.io import save_yml"
   ]
  },
  {
   "cell_type": "code",
   "execution_count": 2,
   "metadata": {},
   "outputs": [],
   "source": [
    "data_root = '/data/siim-isic-melanoma/raw/'"
   ]
  },
  {
   "cell_type": "code",
   "execution_count": 3,
   "metadata": {},
   "outputs": [],
   "source": [
    "dir_2019 = join(data_root, '2019')\n",
    "dir_2020 = join(data_root, '2020')"
   ]
  },
  {
   "cell_type": "code",
   "execution_count": 25,
   "metadata": {},
   "outputs": [],
   "source": [
    "IMAGE_SIZE = 384"
   ]
  },
  {
   "cell_type": "markdown",
   "metadata": {},
   "source": [
    "# Load the csv files from 2020 competition"
   ]
  },
  {
   "cell_type": "code",
   "execution_count": 5,
   "metadata": {},
   "outputs": [],
   "source": [
    "train_df_2020 = pd.read_csv(join(dir_2020, 'train.csv'))\n",
    "test_df_2020 = pd.read_csv(join(dir_2020, 'test.csv'))"
   ]
  },
  {
   "cell_type": "code",
   "execution_count": 6,
   "metadata": {},
   "outputs": [
    {
     "data": {
      "text/plain": [
       "(33126, 10982)"
      ]
     },
     "execution_count": 6,
     "metadata": {},
     "output_type": "execute_result"
    }
   ],
   "source": [
    "len(train_df_2020), len(test_df_2020)"
   ]
  },
  {
   "cell_type": "markdown",
   "metadata": {},
   "source": [
    "## Convert test_df_2020 to the format required"
   ]
  },
  {
   "cell_type": "code",
   "execution_count": 66,
   "metadata": {},
   "outputs": [
    {
     "data": {
      "text/html": [
       "<div>\n",
       "<style scoped>\n",
       "    .dataframe tbody tr th:only-of-type {\n",
       "        vertical-align: middle;\n",
       "    }\n",
       "\n",
       "    .dataframe tbody tr th {\n",
       "        vertical-align: top;\n",
       "    }\n",
       "\n",
       "    .dataframe thead th {\n",
       "        text-align: right;\n",
       "    }\n",
       "</style>\n",
       "<table border=\"1\" class=\"dataframe\">\n",
       "  <thead>\n",
       "    <tr style=\"text-align: right;\">\n",
       "      <th></th>\n",
       "      <th>image_name</th>\n",
       "      <th>patient_id</th>\n",
       "      <th>sex</th>\n",
       "      <th>age_approx</th>\n",
       "      <th>anatom_site_general_challenge</th>\n",
       "    </tr>\n",
       "  </thead>\n",
       "  <tbody>\n",
       "    <tr>\n",
       "      <th>0</th>\n",
       "      <td>ISIC_0052060</td>\n",
       "      <td>IP_3579794</td>\n",
       "      <td>male</td>\n",
       "      <td>70.0</td>\n",
       "      <td>NaN</td>\n",
       "    </tr>\n",
       "    <tr>\n",
       "      <th>1</th>\n",
       "      <td>ISIC_0052349</td>\n",
       "      <td>IP_7782715</td>\n",
       "      <td>male</td>\n",
       "      <td>40.0</td>\n",
       "      <td>lower extremity</td>\n",
       "    </tr>\n",
       "    <tr>\n",
       "      <th>2</th>\n",
       "      <td>ISIC_0058510</td>\n",
       "      <td>IP_7960270</td>\n",
       "      <td>female</td>\n",
       "      <td>55.0</td>\n",
       "      <td>torso</td>\n",
       "    </tr>\n",
       "    <tr>\n",
       "      <th>3</th>\n",
       "      <td>ISIC_0073313</td>\n",
       "      <td>IP_6375035</td>\n",
       "      <td>female</td>\n",
       "      <td>50.0</td>\n",
       "      <td>torso</td>\n",
       "    </tr>\n",
       "    <tr>\n",
       "      <th>4</th>\n",
       "      <td>ISIC_0073502</td>\n",
       "      <td>IP_0589375</td>\n",
       "      <td>female</td>\n",
       "      <td>45.0</td>\n",
       "      <td>lower extremity</td>\n",
       "    </tr>\n",
       "  </tbody>\n",
       "</table>\n",
       "</div>"
      ],
      "text/plain": [
       "     image_name  patient_id     sex  age_approx anatom_site_general_challenge\n",
       "0  ISIC_0052060  IP_3579794    male        70.0                           NaN\n",
       "1  ISIC_0052349  IP_7782715    male        40.0               lower extremity\n",
       "2  ISIC_0058510  IP_7960270  female        55.0                         torso\n",
       "3  ISIC_0073313  IP_6375035  female        50.0                         torso\n",
       "4  ISIC_0073502  IP_0589375  female        45.0               lower extremity"
      ]
     },
     "execution_count": 66,
     "metadata": {},
     "output_type": "execute_result"
    }
   ],
   "source": [
    "test_df_2020.head()"
   ]
  },
  {
   "cell_type": "code",
   "execution_count": 71,
   "metadata": {},
   "outputs": [],
   "source": [
    "test_df = {\n",
    "    'file': [join(dir_2020, f'{IMAGE_SIZE}x{IMAGE_SIZE}/test/{file}.jpg') for file in test_df_2020['image_name'].values],\n",
    "    \n",
    "    # adding dummy target labels as the codebase needs a target as input\n",
    "    'label': [{'classification': 0}] * len(test_df_2020)\n",
    "}"
   ]
  },
  {
   "cell_type": "code",
   "execution_count": 72,
   "metadata": {},
   "outputs": [
    {
     "data": {
      "text/plain": [
       "dict_keys(['file', 'label'])"
      ]
     },
     "execution_count": 72,
     "metadata": {},
     "output_type": "execute_result"
    }
   ],
   "source": [
    "test_df.keys()"
   ]
  },
  {
   "cell_type": "markdown",
   "metadata": {},
   "source": [
    "# Load the csv files from 2019 competition"
   ]
  },
  {
   "cell_type": "markdown",
   "metadata": {},
   "source": [
    "The flags `INCLUDE_2019` and `INCLUDE_2018` are used to specify we want to include the data from 2019 and/or from 2018+2017.\n",
    "0 corresponds to excluding."
   ]
  },
  {
   "cell_type": "code",
   "execution_count": 73,
   "metadata": {},
   "outputs": [],
   "source": [
    "INCLUDE_2019 = 0\n",
    "INCLUDE_2018 = 1"
   ]
  },
  {
   "cell_type": "code",
   "execution_count": 74,
   "metadata": {},
   "outputs": [],
   "source": [
    "train_df_2019 = pd.read_csv(join(dir_2019, 'train.csv'))"
   ]
  },
  {
   "cell_type": "code",
   "execution_count": 75,
   "metadata": {},
   "outputs": [
    {
     "data": {
      "text/html": [
       "<div>\n",
       "<style scoped>\n",
       "    .dataframe tbody tr th:only-of-type {\n",
       "        vertical-align: middle;\n",
       "    }\n",
       "\n",
       "    .dataframe tbody tr th {\n",
       "        vertical-align: top;\n",
       "    }\n",
       "\n",
       "    .dataframe thead th {\n",
       "        text-align: right;\n",
       "    }\n",
       "</style>\n",
       "<table border=\"1\" class=\"dataframe\">\n",
       "  <thead>\n",
       "    <tr style=\"text-align: right;\">\n",
       "      <th></th>\n",
       "      <th>image_name</th>\n",
       "      <th>patient_id</th>\n",
       "      <th>sex</th>\n",
       "      <th>age_approx</th>\n",
       "      <th>anatom_site_general_challenge</th>\n",
       "      <th>diagnosis</th>\n",
       "      <th>benign_malignant</th>\n",
       "      <th>target</th>\n",
       "      <th>tfrecord</th>\n",
       "      <th>width</th>\n",
       "      <th>height</th>\n",
       "    </tr>\n",
       "  </thead>\n",
       "  <tbody>\n",
       "    <tr>\n",
       "      <th>0</th>\n",
       "      <td>ISIC_0000000</td>\n",
       "      <td>-1</td>\n",
       "      <td>female</td>\n",
       "      <td>55.0</td>\n",
       "      <td>anterior torso</td>\n",
       "      <td>NV</td>\n",
       "      <td>benign</td>\n",
       "      <td>0</td>\n",
       "      <td>4</td>\n",
       "      <td>1022</td>\n",
       "      <td>767</td>\n",
       "    </tr>\n",
       "    <tr>\n",
       "      <th>1</th>\n",
       "      <td>ISIC_0000001</td>\n",
       "      <td>-1</td>\n",
       "      <td>female</td>\n",
       "      <td>30.0</td>\n",
       "      <td>anterior torso</td>\n",
       "      <td>NV</td>\n",
       "      <td>benign</td>\n",
       "      <td>0</td>\n",
       "      <td>18</td>\n",
       "      <td>1022</td>\n",
       "      <td>767</td>\n",
       "    </tr>\n",
       "    <tr>\n",
       "      <th>2</th>\n",
       "      <td>ISIC_0000002</td>\n",
       "      <td>-1</td>\n",
       "      <td>female</td>\n",
       "      <td>60.0</td>\n",
       "      <td>upper extremity</td>\n",
       "      <td>MEL</td>\n",
       "      <td>malignant</td>\n",
       "      <td>1</td>\n",
       "      <td>0</td>\n",
       "      <td>1022</td>\n",
       "      <td>767</td>\n",
       "    </tr>\n",
       "    <tr>\n",
       "      <th>3</th>\n",
       "      <td>ISIC_0000003</td>\n",
       "      <td>-1</td>\n",
       "      <td>male</td>\n",
       "      <td>30.0</td>\n",
       "      <td>upper extremity</td>\n",
       "      <td>NV</td>\n",
       "      <td>benign</td>\n",
       "      <td>0</td>\n",
       "      <td>24</td>\n",
       "      <td>1022</td>\n",
       "      <td>767</td>\n",
       "    </tr>\n",
       "    <tr>\n",
       "      <th>4</th>\n",
       "      <td>ISIC_0000004</td>\n",
       "      <td>-1</td>\n",
       "      <td>male</td>\n",
       "      <td>80.0</td>\n",
       "      <td>posterior torso</td>\n",
       "      <td>MEL</td>\n",
       "      <td>malignant</td>\n",
       "      <td>1</td>\n",
       "      <td>14</td>\n",
       "      <td>1022</td>\n",
       "      <td>767</td>\n",
       "    </tr>\n",
       "  </tbody>\n",
       "</table>\n",
       "</div>"
      ],
      "text/plain": [
       "     image_name  patient_id     sex  age_approx anatom_site_general_challenge  \\\n",
       "0  ISIC_0000000          -1  female        55.0                anterior torso   \n",
       "1  ISIC_0000001          -1  female        30.0                anterior torso   \n",
       "2  ISIC_0000002          -1  female        60.0               upper extremity   \n",
       "3  ISIC_0000003          -1    male        30.0               upper extremity   \n",
       "4  ISIC_0000004          -1    male        80.0               posterior torso   \n",
       "\n",
       "  diagnosis benign_malignant  target  tfrecord  width  height  \n",
       "0        NV           benign       0         4   1022     767  \n",
       "1        NV           benign       0        18   1022     767  \n",
       "2       MEL        malignant       1         0   1022     767  \n",
       "3        NV           benign       0        24   1022     767  \n",
       "4       MEL        malignant       1        14   1022     767  "
      ]
     },
     "execution_count": 75,
     "metadata": {},
     "output_type": "execute_result"
    }
   ],
   "source": [
    "train_df_2019.head()"
   ]
  },
  {
   "cell_type": "markdown",
   "metadata": {},
   "source": [
    "# Remove duplicates\n",
    "\n",
    "It was officially announced that the dataset has duplicates which can cause leakage in the validation splits if included. They have been marked with `tfrecord=-1` to be removed."
   ]
  },
  {
   "cell_type": "code",
   "execution_count": 76,
   "metadata": {},
   "outputs": [],
   "source": [
    "train_df_2020 = train_df_2020[train_df_2020['tfrecord'] != -1]"
   ]
  },
  {
   "cell_type": "code",
   "execution_count": 77,
   "metadata": {},
   "outputs": [],
   "source": [
    "# reset the index to match the dimensions of the new train dataframe\n",
    "train_df_2020 = train_df_2020.reset_index(drop=True)"
   ]
  },
  {
   "cell_type": "code",
   "execution_count": 78,
   "metadata": {},
   "outputs": [
    {
     "data": {
      "text/plain": [
       "32692"
      ]
     },
     "execution_count": 78,
     "metadata": {},
     "output_type": "execute_result"
    }
   ],
   "source": [
    "len(train_df_2020)"
   ]
  },
  {
   "cell_type": "code",
   "execution_count": 79,
   "metadata": {},
   "outputs": [
    {
     "data": {
      "text/plain": [
       "12    2198\n",
       "2     2193\n",
       "13    2186\n",
       "1     2185\n",
       "3     2182\n",
       "0     2182\n",
       "9     2178\n",
       "8     2177\n",
       "11    2176\n",
       "6     2175\n",
       "14    2174\n",
       "10    2174\n",
       "7     2174\n",
       "5     2171\n",
       "4     2167\n",
       "Name: tfrecord, dtype: int64"
      ]
     },
     "execution_count": 79,
     "metadata": {},
     "output_type": "execute_result"
    }
   ],
   "source": [
    "train_df_2020['tfrecord'].value_counts()"
   ]
  },
  {
   "cell_type": "markdown",
   "metadata": {},
   "source": [
    "# Defining version and save directory\n",
    "\n",
    "The codebase requires that each dataset is packaged into a version file and stored under `/data/siim-isic-melanoma/processed/versions`. The naming of the version follows this convention:\n",
    "\n",
    "`vX.Y.Z`\n",
    "\n",
    "X - major version - changes only when the dataset size has changed\n",
    "Y - minor version - changes when the same dataset size has been chunked in various ways\n",
    "Z - split numbers - for a given way of chunking the files, we can have multiple folds and this represents the fold number"
   ]
  },
  {
   "cell_type": "code",
   "execution_count": 80,
   "metadata": {},
   "outputs": [],
   "source": [
    "save_dir = '/data/siim-isic-melanoma/processed/versions'\n",
    "makedirs(save_dir, exist_ok=True)\n",
    "\n",
    "save_version = 'v3.0'"
   ]
  },
  {
   "cell_type": "markdown",
   "metadata": {},
   "source": [
    "# Create cross-validation folds using KFold"
   ]
  },
  {
   "cell_type": "markdown",
   "metadata": {},
   "source": [
    "It has been mentioned here that one can segregate the 2019 data from that of 2018 + 2017 as follows:\n",
    "\n",
    "All the images that have original image size of `1024x1024` are in odd numbered TFRecords `(1,3,5,7,9...)` and the other images are in even numbered TFRecords `(0,2,4,6,8,...)`. This way you can choose to only include the not-1024x1024 (which is like only including 2018 and 2017) if you like by using the following code\n",
    "\n",
    "```python\n",
    "files_train += tf.io.gfile.glob([GCS_PATH2 + '/train%.2i*.tfrec'%(2*x) for x in range(15)])\n",
    "```\n",
    "\n",
    "This extra data is always added to the train fold for each of the folds."
   ]
  },
  {
   "cell_type": "markdown",
   "metadata": {},
   "source": [
    "We'll split the 15 TFrecords into 5 folds such that we'll iteratively train on 4 folds and validate on the remaining one."
   ]
  },
  {
   "cell_type": "code",
   "execution_count": 21,
   "metadata": {},
   "outputs": [],
   "source": [
    "N_FOLDS = 5\n",
    "SEED = 42\n",
    "NUM_TFRECORDS = 15"
   ]
  },
  {
   "cell_type": "code",
   "execution_count": 81,
   "metadata": {},
   "outputs": [
    {
     "name": "stdout",
     "output_type": "stream",
     "text": [
      "Fold #1 indices\n",
      "train: [ 1  2  3  4  5  6  7  8 10 12 13 14]\n",
      "val: [ 0  9 11]\n",
      "\n",
      "lengths without extra data: \n",
      "train, val\n",
      "26156 6536\n",
      "\n",
      "Adding 2018 + 2017 data\n",
      "Length of data to be added: 12859\n",
      "\n",
      "lengths with extra data: \n",
      "train, val\n",
      "39015 6536\n",
      "Checking for repititions\n",
      "Checking for leakage\n",
      "Saving this fold to /data/siim-isic-melanoma/processed/versions/v3.0.0.yml\n",
      "========================================\n",
      "\n",
      "\n",
      "Fold #2 indices\n",
      "train: [ 0  1  2  3  4  6  7  9 10 11 12 14]\n",
      "val: [ 5  8 13]\n",
      "\n",
      "lengths without extra data: \n",
      "train, val\n",
      "26158 6534\n",
      "\n",
      "Adding 2018 + 2017 data\n",
      "Length of data to be added: 12859\n",
      "\n",
      "lengths with extra data: \n",
      "train, val\n",
      "39017 6534\n",
      "Checking for repititions\n",
      "Checking for leakage\n",
      "Saving this fold to /data/siim-isic-melanoma/processed/versions/v3.0.1.yml\n",
      "========================================\n",
      "\n",
      "\n",
      "Fold #3 indices\n",
      "train: [ 0  3  4  5  6  7  8  9 10 11 12 13]\n",
      "val: [ 1  2 14]\n",
      "\n",
      "lengths without extra data: \n",
      "train, val\n",
      "26140 6552\n",
      "\n",
      "Adding 2018 + 2017 data\n",
      "Length of data to be added: 12859\n",
      "\n",
      "lengths with extra data: \n",
      "train, val\n",
      "38999 6552\n",
      "Checking for repititions\n",
      "Checking for leakage\n",
      "Saving this fold to /data/siim-isic-melanoma/processed/versions/v3.0.2.yml\n",
      "========================================\n",
      "\n",
      "\n",
      "Fold #4 indices\n",
      "train: [ 0  1  2  3  5  6  8  9 11 12 13 14]\n",
      "val: [ 4  7 10]\n",
      "\n",
      "lengths without extra data: \n",
      "train, val\n",
      "26177 6515\n",
      "\n",
      "Adding 2018 + 2017 data\n",
      "Length of data to be added: 12859\n",
      "\n",
      "lengths with extra data: \n",
      "train, val\n",
      "39036 6515\n",
      "Checking for repititions\n",
      "Checking for leakage\n",
      "Saving this fold to /data/siim-isic-melanoma/processed/versions/v3.0.3.yml\n",
      "========================================\n",
      "\n",
      "\n",
      "Fold #5 indices\n",
      "train: [ 0  1  2  4  5  7  8  9 10 11 13 14]\n",
      "val: [ 3  6 12]\n",
      "\n",
      "lengths without extra data: \n",
      "train, val\n",
      "26137 6555\n",
      "\n",
      "Adding 2018 + 2017 data\n",
      "Length of data to be added: 12859\n",
      "\n",
      "lengths with extra data: \n",
      "train, val\n",
      "38996 6555\n",
      "Checking for repititions\n",
      "Checking for leakage\n",
      "Saving this fold to /data/siim-isic-melanoma/processed/versions/v3.0.4.yml\n",
      "========================================\n",
      "\n",
      "\n"
     ]
    }
   ],
   "source": [
    "kfold = KFold(n_splits=N_FOLDS, shuffle=True,random_state=SEED)\n",
    "\n",
    "for fold_index, (train_tfrecord_indices, val_tfrecord_indices) in enumerate(kfold.split(np.arange(NUM_TFRECORDS))):\n",
    "    print(f'Fold #{fold_index + 1} indices')\n",
    "    print(f'train: {train_tfrecord_indices}')\n",
    "    print(f'val: {val_tfrecord_indices}')\n",
    "    print()\n",
    "    \n",
    "    # get the corresponding rows in the dataframe for the train and val instance\n",
    "    fold_train_df_2020 = train_df_2020[train_df_2020['tfrecord'].isin(train_tfrecord_indices)]\n",
    "    fold_val_df_2020 = train_df_2020[train_df_2020['tfrecord'].isin(val_tfrecord_indices)]\n",
    "\n",
    "    fold_train_files = [join(dir_2020, f'{IMAGE_SIZE}x{IMAGE_SIZE}/train/{file}.jpg') for file in fold_train_df_2020['image_name'].values]\n",
    "    fold_train_labels = fold_train_df_2020['target'].values.tolist()\n",
    "    \n",
    "    fold_val_files = [join(dir_2020, f'{IMAGE_SIZE}x{IMAGE_SIZE}/train/{file}.jpg') for file in fold_val_df_2020['image_name'].values]\n",
    "    fold_val_labels = fold_val_df_2020['target'].values.tolist()\n",
    "    \n",
    "    print('lengths without extra data: \\ntrain, val')\n",
    "    print(len(fold_train_files), len(fold_val_files))\n",
    "    print()\n",
    "    \n",
    "    # include all rows with odd tfrecord id to include 2019 data\n",
    "    if INCLUDE_2019:\n",
    "        train_df_only_2019 = train_df_2019[train_df_2019['tfrecord'] % 2 == 1]\n",
    "\n",
    "        print('Adding 2019 data')\n",
    "        # add this to overall train data\n",
    "        train_files_only_2019 = [join(dir_2019, f'{IMAGE_SIZE}x{IMAGE_SIZE}/train/{file}.jpg') for file in train_df_only_2019['image_name'].values]\n",
    "        train_labels_only_2019 = train_df_only_2019['target'].values.tolist()\n",
    "        print(f'Length of data to be added: {len(train_labels_only_2019)}')\n",
    "        \n",
    "        fold_train_files += train_files_only_2019\n",
    "        fold_train_labels += train_labels_only_2019\n",
    "\n",
    "    # include all rows with even tfrecord id to include 2018 + 2017 data\n",
    "    if INCLUDE_2018:\n",
    "        train_df_only_2018_2017 = train_df_2019[train_df_2019['tfrecord'] % 2 == 0]\n",
    "\n",
    "        print('Adding 2018 + 2017 data')\n",
    "        # add this to overall train data\n",
    "        train_files_only_2018_2017 = [join(dir_2019, f'{IMAGE_SIZE}x{IMAGE_SIZE}/train/{file}.jpg') for file in train_df_only_2018_2017['image_name'].values]\n",
    "        train_labels_only_2018_2017 = train_df_only_2018_2017['target'].values.tolist()\n",
    "        print(f'Length of data to be added: {len(train_labels_only_2018_2017)}')\n",
    "        \n",
    "        fold_train_files += train_files_only_2018_2017\n",
    "        fold_train_labels += train_labels_only_2018_2017\n",
    "    \n",
    "    print()\n",
    "    print('lengths with extra data: \\ntrain, val')\n",
    "    print(len(fold_train_files), len(fold_val_files))\n",
    "    \n",
    "    print('Checking for repititions')\n",
    "    assert len(fold_train_files) == len(set(fold_train_files))\n",
    "    assert len(fold_val_files) == len(set(fold_val_files))\n",
    "    \n",
    "    print('Checking for leakage')\n",
    "    fold_train_files_set = set(fold_train_files)\n",
    "    assert not [f for f in fold_val_files if f in fold_train_files_set]\n",
    "      \n",
    "    data_config = {}\n",
    "    \n",
    "    data_config['train'] = {\n",
    "        'file': fold_train_files,\n",
    "        'label': [{'classification': label} for label in fold_train_labels]\n",
    "    }\n",
    "    \n",
    "    data_config['val'] = {\n",
    "        'file': fold_val_files,\n",
    "        'label': [{'classification': label} for label in fold_val_labels]\n",
    "    }\n",
    "    \n",
    "    data_config['test'] = test_df\n",
    "    \n",
    "    fold_save_version = f'{save_version}.{fold_index}'\n",
    "    fold_save_path = join(save_dir, f'{fold_save_version}.yml')\n",
    "    print(f'Saving this fold to {fold_save_path}')\n",
    "    save_yml(fold_save_path, data_config)\n",
    "    \n",
    "    print('========================================')\n",
    "    print('\\n')"
   ]
  },
  {
   "cell_type": "markdown",
   "metadata": {},
   "source": []
  },
  {
   "cell_type": "code",
   "execution_count": null,
   "metadata": {},
   "outputs": [],
   "source": []
  }
 ],
 "metadata": {
  "kernelspec": {
   "display_name": "Python 3",
   "language": "python",
   "name": "python3"
  },
  "language_info": {
   "codemirror_mode": {
    "name": "ipython",
    "version": 3
   },
   "file_extension": ".py",
   "mimetype": "text/x-python",
   "name": "python",
   "nbconvert_exporter": "python",
   "pygments_lexer": "ipython3",
   "version": "3.6.9"
  }
 },
 "nbformat": 4,
 "nbformat_minor": 4
}
